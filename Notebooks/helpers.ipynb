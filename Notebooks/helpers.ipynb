{
 "cells": [
  {
   "cell_type": "code",
   "execution_count": 7,
   "id": "36dbdcc1-243b-4300-ab08-b50bfb38199a",
   "metadata": {},
   "outputs": [],
   "source": [
    "def full_display(statement):\n",
    "    '''\n",
    "    https://stackoverflow.com/questions/11707586/how-do-i-expand-the-output-display-to-see-more-columns-of-a-pandas-dataframe\n",
    "    \n",
    "    '''\n",
    "    with pd.option_context('display.max_rows', None, 'display.max_columns', None, 'display.max_colwidth', None):\n",
    "        display(statement)"
   ]
  },
  {
   "cell_type": "markdown",
   "id": "d8c717eb-4843-44a4-88c3-b1046e018107",
   "metadata": {},
   "source": [
    "def data_dict():\n",
    "    #pathlib is used to ensure compatibility across operating systems\n",
    "try:\n",
    "    data_destination = Path('../Data/Lending_club/Lending Club Data Dictionary Approved.csv')\n",
    "    dict_df = pd.read_csv(data_destination, encoding='ISO-8859-1')\n",
    "    display(dict_df.iloc[:,0:2])\n",
    "except FileNotFoundError as e:\n",
    "    print(e.args[1])\n",
    "    print('Check file location')"
   ]
  },
  {
   "cell_type": "markdown",
   "id": "584c5d6f-9fd7-45bd-8af6-a617b55ddf7c",
   "metadata": {},
   "source": [
    "if __name__ == '__main__':\n",
    "    import pandas as pd\n",
    "    import numpy as np\n",
    "    a_df = pd.util.testing.makeDataFrame()\n",
    "    full_display(a_df)"
   ]
  },
  {
   "cell_type": "code",
   "execution_count": null,
   "id": "430392a4-18bc-46d4-a990-76c6e03342da",
   "metadata": {},
   "outputs": [],
   "source": []
  }
 ],
 "metadata": {
  "kernelspec": {
   "display_name": "loans_capstone",
   "language": "python",
   "name": "loans_capstone"
  },
  "language_info": {
   "codemirror_mode": {
    "name": "ipython",
    "version": 3
   },
   "file_extension": ".py",
   "mimetype": "text/x-python",
   "name": "python",
   "nbconvert_exporter": "python",
   "pygments_lexer": "ipython3",
   "version": "3.11.3"
  }
 },
 "nbformat": 4,
 "nbformat_minor": 5
}
