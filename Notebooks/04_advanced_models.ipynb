{
 "cells": [
  {
   "cell_type": "markdown",
   "id": "037725ff-a7c1-4cef-b3c2-c79ee123a8e1",
   "metadata": {},
   "source": [
    "# Advanced models: SVM, DecisionTrees, Randomforest"
   ]
  },
  {
   "cell_type": "markdown",
   "id": "cfbeb84b-a0aa-483b-8e24-52b336745a00",
   "metadata": {},
   "source": [
    "## Date: Nov 21, 2023"
   ]
  },
  {
   "cell_type": "markdown",
   "id": "33183941-9962-49fb-b21e-b1666c558f67",
   "metadata": {},
   "source": [
    "---------------"
   ]
  },
  {
   "cell_type": "markdown",
   "id": "663de5f7-2f6d-446d-ac11-e643fca27f07",
   "metadata": {},
   "source": [
    "## Introduction"
   ]
  },
  {
   "cell_type": "markdown",
   "id": "ae7b2419-222b-49b7-84b0-6bbec652afa7",
   "metadata": {},
   "source": [
    "willl use gridearch for hyperparamter optimization\n",
    "kfolds cross validiaton"
   ]
  },
  {
   "cell_type": "markdown",
   "id": "d7f8a524-9c36-4a80-a212-b117449a0b06",
   "metadata": {},
   "source": [
    "---------------"
   ]
  },
  {
   "cell_type": "markdown",
   "id": "043c982c-c0b5-4afc-86b8-e064139625bb",
   "metadata": {},
   "source": [
    "### Table of Contents"
   ]
  },
  {
   "cell_type": "markdown",
   "id": "c6707042-0059-4602-a55b-072880c0854a",
   "metadata": {},
   "source": [
    "1. [Introduction](#Introduction)\n",
    "   - [Table of Contents](#Table-of-contents)\n",
    "   - [Import Librarys](#Import-Librarys)\n",
    "   - [Data Dictionary](#Data-Dictionary)\n",
    "   - [Load the data](#Load-the-data)\n",
    "3. [SVM Model](#SVM-Model)\n",
    "   - [Assumptions](#Assumptions)\n",
    "   - [PreProcessing](#PreProcessing)\n",
    "   - [Modelling](#Modelling)\n",
    "   - [Evaluation](#Evaluation)\n",
    "8. [Conclusion](#Conclusion)\n"
   ]
  },
  {
   "cell_type": "markdown",
   "id": "f3c61337-6378-4d03-911d-bb91287b1309",
   "metadata": {},
   "source": [
    "### Import Librarys"
   ]
  },
  {
   "cell_type": "code",
   "execution_count": null,
   "id": "03eb7e11-9724-442d-ad58-b171fd62bb5f",
   "metadata": {},
   "outputs": [],
   "source": [
    "import pandas as pd\n",
    "import numpy as np\n",
    "import seaborn as sns\n",
    "import matplotlib.pyplot as plt\n",
    "\n",
    "from pathlib import Path"
   ]
  },
  {
   "cell_type": "markdown",
   "id": "6f48ef04-aeb2-4ba8-8002-0b8f8c12c878",
   "metadata": {},
   "source": [
    "### Data Dictionary"
   ]
  },
  {
   "cell_type": "code",
   "execution_count": null,
   "id": "8ba31093-a037-44d8-9b78-433fd8f79368",
   "metadata": {},
   "outputs": [],
   "source": [
    "pd.set_option('display.max_rows', None)\n",
    "pd.set_option('display.max_columns', None)\n",
    "pd.set_option('display.max_colwidth', None)"
   ]
  },
  {
   "cell_type": "code",
   "execution_count": null,
   "id": "4dec4370-8af5-40cf-ae06-584a4e58c366",
   "metadata": {},
   "outputs": [],
   "source": [
    "#pathlib is used to ensure compatibility across operating systems\n",
    "try:\n",
    "    data_destination = Path('../Data/Lending_club/Lending Club Data Dictionary Approved.csv')\n",
    "    dict_df = pd.read_csv(data_destination, encoding='ISO-8859-1')\n",
    "    display(dict_df.iloc[:,0:2])\n",
    "except FileNotFoundError as e:\n",
    "    print(e.args[1])\n",
    "    print('Check file location')"
   ]
  },
  {
   "cell_type": "markdown",
   "id": "b4e8122c-e9fe-43e3-a2a1-8c5e03243910",
   "metadata": {},
   "source": [
    "### Load the Data"
   ]
  },
  {
   "cell_type": "code",
   "execution_count": null,
   "id": "917ffc47-0d1c-4776-a406-c2c1155b4a76",
   "metadata": {},
   "outputs": [],
   "source": [
    "# Define the relative path to the file\n",
    "parquet_file_path = Path('../Data/Lending_club/model_cleaned')\n",
    "\n",
    "try:\n",
    "    # Read the parquet file\n",
    "    loans_df = pd.read_parquet(parquet_file_path)\n",
    "except FileNotFoundError as e:\n",
    "    print(e.args[1])\n",
    "    print('Check file location')"
   ]
  },
  {
   "cell_type": "code",
   "execution_count": null,
   "id": "a3b7976b-d3a7-4de4-b14c-af342b960825",
   "metadata": {},
   "outputs": [],
   "source": [
    "loans_df.head()"
   ]
  },
  {
   "cell_type": "markdown",
   "id": "12504c05-b658-4150-a241-8187ce6512c5",
   "metadata": {},
   "source": [
    "### SVM model"
   ]
  },
  {
   "cell_type": "markdown",
   "id": "8fde2087-03fc-4c56-af62-17b6fa2089e0",
   "metadata": {},
   "source": [
    "Similarly to log reg, SVM creates linear boundaries. However, SVM aims to to maximize the decision boundary distance between classes, while minimizing misclassified data points. This increased buffer created between classes should better capture the extra variance when being evaluated on the test set. As SVM is a linear model, it is assumed that the data is linearly separable to some degree, although this is less of a consideration if the kernal trick is used.  \n",
    "The hyper parameters to be used will be used:\n",
    "\n",
    "- C value: The C hyperparameter tells the SVM optimization how much to avoid misclassifying each training example. For very large C values, the SVM will fit the training data very closely and tends to find a very small margin in favor of making fewer mistakes. \n",
    "For very small C values, the SVM will be allowed to pick a wider margin by misclassifying more point. Since accuracy is preferred for this project, a higher C value is going to be preferred, without overfitting.\n",
    "- Scaler: As SVM is distance based, it will benefit from distance scaling. \n",
    "- Kernal: A linear kernal will be tried, but different kernals to better handle non linear can be used.\n",
    "\n",
    "More information on SVM's:  \n",
    "https://towardsdatascience.com/https-medium-com-pupalerushikesh-svm-f4b42800e989s"
   ]
  },
  {
   "cell_type": "code",
   "execution_count": null,
   "id": "4581d120-b9ac-47f0-9351-9b2ba7fd8b0d",
   "metadata": {},
   "outputs": [],
   "source": []
  },
  {
   "cell_type": "code",
   "execution_count": null,
   "id": "b7067cf4-97ee-4b16-8474-dd20c97c4fa5",
   "metadata": {},
   "outputs": [],
   "source": []
  },
  {
   "cell_type": "code",
   "execution_count": null,
   "id": "1ff5c67f-c156-4148-8621-f4f8a98139d9",
   "metadata": {},
   "outputs": [],
   "source": []
  },
  {
   "cell_type": "markdown",
   "id": "9a1a7aa4",
   "metadata": {},
   "source": [
    "# Advanced models: SVM, DecisionTrees, Randomforest"
   ]
  },
  {
   "cell_type": "markdown",
   "id": "95574669",
   "metadata": {},
   "source": [
    "## Date: Nov 21, 2023"
   ]
  },
  {
   "cell_type": "markdown",
   "id": "184b858e",
   "metadata": {},
   "source": [
    "---------------"
   ]
  },
  {
   "cell_type": "markdown",
   "id": "023f2a87",
   "metadata": {},
   "source": [
    "## Introduction"
   ]
  },
  {
   "cell_type": "markdown",
   "id": "4cee7a79",
   "metadata": {},
   "source": [
    "willl use gridearch for hyperparamter optimization\n",
    "kfolds cross validiaton"
   ]
  },
  {
   "cell_type": "markdown",
   "id": "98f42194",
   "metadata": {},
   "source": [
    "---------------"
   ]
  },
  {
   "cell_type": "markdown",
   "id": "8a12a6aa",
   "metadata": {},
   "source": [
    "### Table of Contents"
   ]
  },
  {
   "cell_type": "markdown",
   "id": "0cd86217",
   "metadata": {},
   "source": [
    "1. [Introduction](#Introduction)\n",
    "   - [Table of Contents](#Table-of-contents)\n",
    "   - [Import Librarys](#Import-Librarys)\n",
    "   - [Data Dictionary](#Data-Dictionary)\n",
    "   - [Load the data](#Load-the-data)\n",
    "3. [SVM Model](#SVM-Model)\n",
    "   - [Assumptions](#Assumptions)\n",
    "   - [PreProcessing](#PreProcessing)\n",
    "   - [Modelling](#Modelling)\n",
    "   - [Evaluation](#Evaluation)\n",
    "8. [Conclusion](#Conclusion)\n"
   ]
  },
  {
   "cell_type": "markdown",
   "id": "01a58992",
   "metadata": {},
   "source": [
    "### Import Librarys"
   ]
  },
  {
   "cell_type": "code",
   "execution_count": null,
   "id": "cfb0049a",
   "metadata": {},
   "outputs": [],
   "source": [
    "import pandas as pd\n",
    "import numpy as np\n",
    "import seaborn as sns\n",
    "import matplotlib.pyplot as plt\n",
    "\n",
    "from pathlib import Path"
   ]
  },
  {
   "cell_type": "markdown",
   "id": "e703c804",
   "metadata": {},
   "source": [
    "### Data Dictionary"
   ]
  },
  {
   "cell_type": "code",
   "execution_count": null,
   "id": "57f80d45",
   "metadata": {},
   "outputs": [],
   "source": [
    "pd.set_option('display.max_rows', None)\n",
    "pd.set_option('display.max_columns', None)\n",
    "pd.set_option('display.max_colwidth', None)"
   ]
  },
  {
   "cell_type": "code",
   "execution_count": null,
   "id": "5a11f0ac",
   "metadata": {
    "scrolled": true
   },
   "outputs": [],
   "source": [
    "#pathlib is used to ensure compatibility across operating systems\n",
    "try:\n",
    "    data_destination = Path('../Data/Lending_club/Lending Club Data Dictionary Approved.csv')\n",
    "    dict_df = pd.read_csv(data_destination, encoding='ISO-8859-1')\n",
    "    display(dict_df.iloc[:,0:2])\n",
    "except FileNotFoundError as e:\n",
    "    print(e.args[1])\n",
    "    print('Check file location')"
   ]
  },
  {
   "cell_type": "markdown",
   "id": "cd5bd235",
   "metadata": {},
   "source": [
    "### Load the Data"
   ]
  },
  {
   "cell_type": "code",
   "execution_count": null,
   "id": "c96718ae",
   "metadata": {},
   "outputs": [],
   "source": [
    "# Define the relative path to the file\n",
    "parquet_file_path = Path('../Data/Lending_club/model_cleaned')\n",
    "\n",
    "try:\n",
    "    # Read the parquet file\n",
    "    loans_df = pd.read_parquet(parquet_file_path)\n",
    "except FileNotFoundError as e:\n",
    "    print(e.args[1])\n",
    "    print('Check file location')"
   ]
  },
  {
   "cell_type": "code",
   "execution_count": null,
   "id": "a5d3bd81",
   "metadata": {},
   "outputs": [],
   "source": [
    "loans_df.head()"
   ]
  },
  {
   "cell_type": "markdown",
   "id": "da76ea6b",
   "metadata": {},
   "source": [
    "### SVM model"
   ]
  },
  {
   "cell_type": "markdown",
   "id": "7fbdf12f",
   "metadata": {},
   "source": [
    "Similarly to log reg, SVM creates linear boundaries. However, SVM aims to to maximize the decision boundary distance between classes, while minimizing misclassified data points. This increased buffer created between classes should better capture the extra variance when being evaluated on the test set. As SVM is a linear model, it is assumed that the data is linearly separable to some degree, although this is less of a consideration if the kernal trick is used.  \n",
    "The hyper parameters to be used will be used:\n",
    "\n",
    "- C value: The C hyperparameter tells the SVM optimization how much to avoid misclassifying each training example. For very large C values, the SVM will fit the training data very closely and tends to find a very small margin in favor of making fewer mistakes. \n",
    "For very small C values, the SVM will be allowed to pick a wider margin by misclassifying more point. Since accuracy is preferred for this project, a higher C value is going to be preferred, without overfitting.\n",
    "- Scaler: As SVM is distance based, it will benefit from distance scaling. \n",
    "- Kernal: A linear kernal will be tried, but different kernals to better handle non linear can be used.\n",
    "\n",
    "More information on SVM's:  \n",
    "https://towardsdatascience.com/https-medium-com-pupalerushikesh-svm-f4b42800e989s"
   ]
  },
  {
   "cell_type": "code",
   "execution_count": null,
   "id": "76e1f3a3",
   "metadata": {},
   "outputs": [],
   "source": []
  },
  {
   "cell_type": "code",
   "execution_count": null,
   "id": "bb8bba41",
   "metadata": {},
   "outputs": [],
   "source": []
  },
  {
   "cell_type": "code",
   "execution_count": null,
   "id": "4e0a3592",
   "metadata": {},
   "outputs": [],
   "source": []
  }
 ],
 "metadata": {
  "kernelspec": {
   "display_name": "loans_capstone",
   "language": "python",
   "name": "loans_capstone"
  },
  "language_info": {
   "codemirror_mode": {
    "name": "ipython",
    "version": 3
   },
   "file_extension": ".py",
   "mimetype": "text/x-python",
   "name": "python",
   "nbconvert_exporter": "python",
   "pygments_lexer": "ipython3",
   "version": "3.11.3"
  }
 },
 "nbformat": 4,
 "nbformat_minor": 5
}
