{
 "cells": [
  {
   "cell_type": "markdown",
   "id": "7737e2f6-ee61-4939-b1e9-4d86244412cc",
   "metadata": {},
   "source": [
    "# Base Model: Logistic Regression"
   ]
  },
  {
   "cell_type": "markdown",
   "id": "6eb8d57e-f8e2-438f-ac20-e55f148bb495",
   "metadata": {},
   "source": [
    "## Date: Nov 9, 2023"
   ]
  },
  {
   "cell_type": "markdown",
   "id": "256c83e4-ba8b-41a0-a026-0ebaeec4d1b3",
   "metadata": {},
   "source": [
    "------------------"
   ]
  },
  {
   "cell_type": "markdown",
   "id": "0d8497c5-d4a9-4dea-b86e-238a39652efb",
   "metadata": {},
   "source": [
    "## Table of Contents"
   ]
  },
  {
   "cell_type": "code",
   "execution_count": null,
   "id": "6dc5bfa0-1825-4eb3-a49b-1b16fc13fab1",
   "metadata": {},
   "outputs": [],
   "source": []
  },
  {
   "cell_type": "markdown",
   "id": "98074a2c-ee81-473a-a32e-34eb6dc688d8",
   "metadata": {},
   "source": [
    "## Introduction"
   ]
  },
  {
   "cell_type": "code",
   "execution_count": null,
   "id": "1a0af820-3137-43e8-a926-7f9ee7a6a755",
   "metadata": {},
   "outputs": [],
   "source": []
  },
  {
   "cell_type": "markdown",
   "id": "8125e564-2b37-4bdb-a886-123ed781112a",
   "metadata": {},
   "source": [
    "## Import Librarys"
   ]
  },
  {
   "cell_type": "code",
   "execution_count": null,
   "id": "19cbeb4b-1a60-4ed0-860d-f4b52aa2d41c",
   "metadata": {},
   "outputs": [],
   "source": [
    "import pandas as pd\n",
    "import numpy as np\n",
    "import seaborn as sns\n",
    "import matplotlib.pyplot as plt\n",
    "\n",
    "from pathlib import Path\n",
    "\n",
    "from sklearn.model_selection import train_test_split\n",
    "from sklearn.linear_model import LogisticRegression\n",
    "from sklearn.metrics import classification_report, confusion_matrix\n",
    "from sklearn.preprocessing import StandardScaler"
   ]
  },
  {
   "cell_type": "markdown",
   "id": "25946e1f-a975-4d39-a161-bd37d2646a21",
   "metadata": {},
   "source": [
    "## Data Dictionary"
   ]
  },
  {
   "cell_type": "code",
   "execution_count": null,
   "id": "6636a5f3-646d-4698-89d9-cb0c4c780f66",
   "metadata": {},
   "outputs": [],
   "source": [
    "pd.set_option('display.max_rows', None)\n",
    "pd.set_option('display.max_columns', None)\n",
    "pd.set_option('display.max_colwidth', None)"
   ]
  },
  {
   "cell_type": "code",
   "execution_count": null,
   "id": "a88ff308-4904-4076-a245-40e57fcd7c29",
   "metadata": {},
   "outputs": [],
   "source": [
    "#pathlib is used to ensure compatibility across operating systems\n",
    "try:\n",
    "    data_destination = Path('../Data/Lending_club/Lending Club Data Dictionary Approved.csv')\n",
    "    dict_df = pd.read_csv(data_destination, encoding='ISO-8859-1')\n",
    "    display(dict_df.iloc[:,0:2])\n",
    "except FileNotFoundError as e:\n",
    "    print(e.args[1])\n",
    "    print('Check file location')"
   ]
  },
  {
   "cell_type": "markdown",
   "id": "249e4929-f85e-492b-a8ba-b9a4e5772d02",
   "metadata": {},
   "source": [
    "## Load the Data"
   ]
  },
  {
   "cell_type": "code",
   "execution_count": null,
   "id": "31e07d49-3123-43f8-92e6-d650d28887d4",
   "metadata": {},
   "outputs": [],
   "source": [
    "# Define the relative path to the file\n",
    "parquet_file_path = Path('../Data/Lending_club/Cleaned')\n",
    "\n",
    "try:\n",
    "    # Read the parquet file\n",
    "    loans_df = pd.read_parquet(parquet_file_path)\n",
    "except FileNotFoundError as e:\n",
    "    print(e.args[1])\n",
    "    print('Check file location')"
   ]
  },
  {
   "cell_type": "code",
   "execution_count": null,
   "id": "9bca12d4-961c-4916-995f-2d86f507f215",
   "metadata": {},
   "outputs": [],
   "source": [
    "# Convert 'loan_status' to a binary variable where 'Fully Paid' is 1 and all other statuses are 0\n",
    "loans_df['loan_status'] = loans_df['loan_status'].apply(lambda x: 1 if x == 'Fully Paid' else 0)\n",
    "\n",
    "# Convert categorical variables to dummy variables\n",
    "loans_df = pd.get_dummies(loans_df, drop_first=True)\n",
    "\n",
    "# Split the data\n",
    "X = loans_df.drop('loan_status', axis=1)\n",
    "y = loans_df['loan_status']\n",
    "\n",
    "# Split into train and test sets\n",
    "X_train, X_test, y_train, y_test = train_test_split(X, y, test_size=0.2, random_state=42)\n",
    "\n",
    "# Standardize the data\n",
    "scaler = StandardScaler()\n",
    "X_scaled = scaler.fit_transform(X)\n",
    "\n",
    "# Split into train and test sets\n",
    "X_train, X_test, y_train, y_test = train_test_split(X_scaled, y, test_size=0.2, random_state=42)\n",
    "\n",
    "# Initialize and train the logistic regression model\n",
    "log_reg = LogisticRegression()\n",
    "log_reg.fit(X_train, y_train)\n",
    "\n",
    "# Predictions\n",
    "y_pred = log_reg.predict(X_test)\n",
    "\n",
    "# Evaluate the model\n",
    "print(confusion_matrix(y_test, y_pred))\n",
    "print(classification_report(y_test, y_pred))"
   ]
  }
 ],
 "metadata": {
  "kernelspec": {
   "display_name": "loans_capstone",
   "language": "python",
   "name": "loans_capstone"
  },
  "language_info": {
   "codemirror_mode": {
    "name": "ipython",
    "version": 3
   },
   "file_extension": ".py",
   "mimetype": "text/x-python",
   "name": "python",
   "nbconvert_exporter": "python",
   "pygments_lexer": "ipython3",
   "version": "3.11.3"
  }
 },
 "nbformat": 4,
 "nbformat_minor": 5
}
