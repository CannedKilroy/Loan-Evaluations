{
 "cells": [
  {
   "cell_type": "code",
   "execution_count": 1,
   "id": "5dbd933b-62f6-4e88-a9c7-81ccdd88cda8",
   "metadata": {},
   "outputs": [],
   "source": [
    "#scrape"
   ]
  },
  {
   "cell_type": "code",
   "execution_count": 2,
   "id": "c3dd7d1e-78c5-4f34-9e6f-e56de1576194",
   "metadata": {},
   "outputs": [
    {
     "name": "stdout",
     "output_type": "stream",
     "text": [
      "['loanStatus', 'String', 'No', 'Loan status']\n",
      "['loanId', 'integer', 'No', 'Loan Id']\n",
      "['portfolioName', 'String', 'Yes', 'Portfolio name']\n",
      "['noteId', 'integer', 'No', 'Note Id']\n",
      "['grade', 'String', 'No', 'Subgrade']\n",
      "['loanAmount', 'BigDecimal', 'No', 'Loan amount']\n",
      "['accruedInterest', 'BigDecimal', 'No', 'Accrued Interest']\n",
      "['noteAmount', 'BigDecimal', 'No', 'Note amount']\n",
      "['purpose', 'String', 'No', 'Purpose']\n",
      "['interestRate', 'Number', 'No', 'Interest rate']\n",
      "['portfolioId', 'integer', 'Yes', 'Portfolio Id']\n",
      "['orderId', 'integer', 'No', 'Order Id']\n",
      "['loanLength', 'integer', 'No', 'Loan length']\n",
      "['issueDate', 'String', 'Yes', 'Issue date']\n",
      "['orderDate', 'String', 'No', 'Order date']\n",
      "['loanStatusDate', 'String', 'No', 'Loan status date']\n",
      "['creditTrend', 'String', 'No', 'Credit trend']\n",
      "['currentPaymentStatus', 'String', 'Yes', 'Current payment status']\n",
      "['canBeTraded', 'boolean', 'No', 'Can be traded']\n",
      "['paymentsReceived', 'BigDecimal', 'No', 'Payments received']\n",
      "['nextPaymentDate', 'String', 'Yes', 'Next payment date']\n",
      "['principalPending', 'BigDecimal', 'No', 'Principal pending']\n",
      "['interestPending', 'BigDecimal', 'No', 'Interest pending']\n",
      "['interestReceived', 'BigDecimal', 'No', 'Interest received']\n",
      "['principalReceived', 'BigDecimal', 'No', 'Principal received']\n",
      "['applicationType', 'String', 'Yes', 'The loan application type. Valid values are \"INDIVIDUAL\" or \"JOINT\"']\n",
      "['disbursementMethod', 'String', 'No', 'The loan disbursement method. Valid values are \"DIRECT_PAY\" or \"CASH\".']\n"
     ]
    }
   ],
   "source": [
    "import requests\n",
    "from bs4 import BeautifulSoup\n",
    "\n",
    "url = 'https://www.lendingclub.com/developers/detailed-notes-owned'\n",
    "\n",
    "response = requests.get(url)\n",
    "soup = BeautifulSoup(response.content, 'html.parser')\n",
    "\n",
    "# Assuming the table is the main (or only) table on the page\n",
    "table = soup.find('table')\n",
    "\n",
    "# Extracting table headers\n",
    "headers = [header.text for header in table.find_all('th')]\n",
    "\n",
    "# Extracting table rows\n",
    "rows = table.find_all('tr')\n",
    "data = []\n",
    "for row in rows[1:]:  # skip the header row\n",
    "    columns = row.find_all('td')\n",
    "    columns = [column.text.strip() for column in columns]\n",
    "    data.append(columns)\n",
    "\n",
    "# Print the data\n",
    "for item in data:\n",
    "    print(item)\n"
   ]
  }
 ],
 "metadata": {
  "kernelspec": {
   "display_name": "Python 3 (ipykernel)",
   "language": "python",
   "name": "python3"
  },
  "language_info": {
   "codemirror_mode": {
    "name": "ipython",
    "version": 3
   },
   "file_extension": ".py",
   "mimetype": "text/x-python",
   "name": "python",
   "nbconvert_exporter": "python",
   "pygments_lexer": "ipython3",
   "version": "3.11.3"
  }
 },
 "nbformat": 4,
 "nbformat_minor": 5
}
