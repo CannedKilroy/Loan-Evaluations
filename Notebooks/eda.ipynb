{
 "cells": [
  {
   "cell_type": "markdown",
   "id": "1f0cd6ac-c5e7-4a2c-82c9-7563a71b5f7b",
   "metadata": {},
   "source": [
    "# EDA"
   ]
  },
  {
   "cell_type": "markdown",
   "id": "3acdf611-d79a-4e02-ac10-470b8f24f103",
   "metadata": {},
   "source": [
    "## Date: Nov 7, 2023"
   ]
  },
  {
   "cell_type": "markdown",
   "id": "b01f5095-2f00-498c-8780-ade055ecdf3f",
   "metadata": {},
   "source": [
    "---------------"
   ]
  },
  {
   "cell_type": "markdown",
   "id": "4166a017-a245-4d81-8671-7797771269a6",
   "metadata": {},
   "source": [
    "## Table of Contents"
   ]
  },
  {
   "cell_type": "code",
   "execution_count": null,
   "id": "ebb4ee0f-1f73-46dd-937e-57ebf6732e98",
   "metadata": {},
   "outputs": [],
   "source": []
  },
  {
   "cell_type": "markdown",
   "id": "0107eb5d-d88b-4900-a610-f4753dbe5a18",
   "metadata": {},
   "source": [
    "## Introduction"
   ]
  },
  {
   "cell_type": "code",
   "execution_count": null,
   "id": "bc68b588-0367-41b0-b325-3ee617e6bc0d",
   "metadata": {},
   "outputs": [],
   "source": []
  },
  {
   "cell_type": "markdown",
   "id": "b7034801-cca9-4adc-9370-b99b627a537a",
   "metadata": {},
   "source": [
    "## Import Librarys"
   ]
  },
  {
   "cell_type": "code",
   "execution_count": null,
   "id": "d45197dc-17e9-4562-9833-1734292f7ad0",
   "metadata": {},
   "outputs": [],
   "source": [
    "import pandas as pd\n",
    "import numpy as np\n",
    "import seaborn as sns\n",
    "import matplotlib.pyplot as plt\n",
    "\n",
    "from pathlib import Path"
   ]
  },
  {
   "cell_type": "markdown",
   "id": "c110dcb4-e99d-46c6-8e8b-9ad0bc274ebf",
   "metadata": {},
   "source": [
    "## Data Dictionary"
   ]
  },
  {
   "cell_type": "code",
   "execution_count": null,
   "id": "386bb105-161b-4208-83a2-3d4d9e94516f",
   "metadata": {},
   "outputs": [],
   "source": [
    "pd.set_option('display.max_rows', None)\n",
    "pd.set_option('display.max_columns', None)\n",
    "pd.set_option('display.max_colwidth', None)"
   ]
  },
  {
   "cell_type": "code",
   "execution_count": null,
   "id": "26b9b44b-7efd-4ffb-b14d-1d2f8fe6cabe",
   "metadata": {},
   "outputs": [],
   "source": [
    "#pathlib is used to ensure compatibility across operating systems\n",
    "try:\n",
    "    data_destination = Path('../Data/Lending_club/Lending Club Data Dictionary Approved.csv')\n",
    "    dict_df = pd.read_csv(data_destination, encoding='ISO-8859-1')\n",
    "    display(dict_df.iloc[:,0:2])\n",
    "except FileNotFoundError as e:\n",
    "    print(e.args[1])\n",
    "    print('Check file location')"
   ]
  },
  {
   "cell_type": "markdown",
   "id": "1f2e2057-bce3-48bc-9af1-0417911db37a",
   "metadata": {},
   "source": [
    "## Load the Data"
   ]
  },
  {
   "cell_type": "code",
   "execution_count": null,
   "id": "558e38e8-e3a1-423a-afd5-c9b7fa32be79",
   "metadata": {},
   "outputs": [],
   "source": [
    "# Define the relative path to the file\n",
    "parquet_file_path = Path('../Data/Lending_club/Cleaned')\n",
    "\n",
    "try:\n",
    "    # Read the parquet file\n",
    "    loans_df = pd.read_parquet(parquet_file_path)\n",
    "except FileNotFoundError as e:\n",
    "    print(e.args[1])\n",
    "    print('Check file location')"
   ]
  },
  {
   "cell_type": "code",
   "execution_count": null,
   "id": "e73a6cc0-6110-4f39-8fac-ffa385293f43",
   "metadata": {},
   "outputs": [],
   "source": [
    "loans_df.head()"
   ]
  },
  {
   "cell_type": "code",
   "execution_count": null,
   "id": "2a16c03d-69e3-4e92-bc71-7a62213fb970",
   "metadata": {
    "scrolled": true
   },
   "outputs": [],
   "source": [
    "loans_df['issue_d'].value_counts()"
   ]
  },
  {
   "cell_type": "markdown",
   "id": "87a85dc0-8e02-48b8-bb9e-4685e800cc9c",
   "metadata": {},
   "source": [
    "## Exploratory Data Analysis"
   ]
  },
  {
   "cell_type": "code",
   "execution_count": null,
   "id": "b563183a-4fca-4b14-917f-72ca090fbfcc",
   "metadata": {},
   "outputs": [],
   "source": [
    "# Separate the data between fully paid and charged off / defaulted loans\n",
    "paid_loans = loans_df[loans_df['loan_status'] == \"Fully Paid\"]\n",
    "defaulted_loans = loans_df[loans_df['loan_status'] == \"Charged Off/Default\"]"
   ]
  },
  {
   "cell_type": "markdown",
   "id": "b35eeffb-1d7f-49f2-a986-4457470afeae",
   "metadata": {},
   "source": [
    "***Loan Status Imbalance***"
   ]
  },
  {
   "cell_type": "markdown",
   "id": "9958dc1f-4ca2-429d-9c04-8b6c984db0d7",
   "metadata": {},
   "source": [
    "We can explore the inabalance we have between our failed and successful loans."
   ]
  },
  {
   "cell_type": "code",
   "execution_count": null,
   "id": "4758c219-a798-43ae-ab81-6f9d896646e0",
   "metadata": {},
   "outputs": [],
   "source": [
    "# Get the proportion of failed vs successful loans \n",
    "loan_status_counts = loans_df['loan_status'].value_counts(normalize=True)\n",
    "\n",
    "# Place a background grid\n",
    "sns.set_style(\"whitegrid\")\n",
    "\n",
    "# Plot the Proportions\n",
    "loan_status_counts.plot(kind='bar', color='skyblue')\n",
    "plt.title('Proportion of loans by Status')\n",
    "plt.xticks(rotation=45) \n",
    "plt.xlabel('Loan Status')\n",
    "plt.ylabel('Proportion')\n",
    "\n",
    "# Show the plot\n",
    "plt.tight_layout()\n",
    "plt.show()"
   ]
  },
  {
   "cell_type": "markdown",
   "id": "a7e3d308-9118-4c73-b118-9c983d51870a",
   "metadata": {},
   "source": [
    "We can see that we have large difference between our categories. This will need to be taken into consideration when we start creating the models."
   ]
  },
  {
   "cell_type": "markdown",
   "id": "5e6f01d0-f6ae-4b55-9289-e20aed9f6d5e",
   "metadata": {},
   "source": [
    "***Loan Amount***"
   ]
  },
  {
   "cell_type": "code",
   "execution_count": null,
   "id": "b01ee3bd-e299-4819-a291-aaa2c0719c00",
   "metadata": {},
   "outputs": [],
   "source": [
    "# Univariate Analysis\n",
    "plt.figure(figsize=(10, 5))\n",
    "sns.histplot(loans_df['loan_amnt'], bins=20, kde=True)\n",
    "plt.title('Loan Amount Distribution')\n",
    "plt.show()"
   ]
  },
  {
   "cell_type": "markdown",
   "id": "3a14de34-4006-49ff-ba90-39f519dc46c8",
   "metadata": {},
   "source": [
    "We can see that majority of loans center around $10,000$, with a right tail to $40,000$, with the maximum coming in at $40,000$.   \n",
    "This is due to LC limiting the amount to just '$'40,000.  \n",
    "More Information can be found here:  \n",
    "https://www.lendingclub.com/help/personal-loan-faq/how-much-can-i-borrow"
   ]
  },
  {
   "cell_type": "markdown",
   "id": "7c7352a2-b70e-43b5-91ff-a2504df37674",
   "metadata": {},
   "source": []
  },
  {
   "cell_type": "code",
   "execution_count": null,
   "id": "29df16a2-a2c2-4e55-adfe-256133baa8c7",
   "metadata": {
    "scrolled": true
   },
   "outputs": [],
   "source": [
    "# Select only the numeric columns for the correlation matrix\n",
    "numeric_df = loans_df.select_dtypes(include=[np.number])\n",
    "\n",
    "# Calculate the correlation matrix\n",
    "corr = numeric_df.corr()\n",
    "\n",
    "# Generate a mask for the upper triangle\n",
    "mask = np.triu(np.ones_like(corr, dtype=bool))\n",
    "\n",
    "# Set up the matplotlib figure\n",
    "plt.figure(figsize=(10, 8))\n",
    "\n",
    "# Draw the heatmap with the mask and correct aspect ratio\n",
    "sns.heatmap(corr, mask=mask, cmap='coolwarm', vmax=1, vmin=-1, center=0,\n",
    "            square=True, linewidths=.5, cbar_kws={\"shrink\": .5}, annot=True, fmt=\".2f\")\n",
    "\n",
    "plt.show()"
   ]
  },
  {
   "cell_type": "markdown",
   "id": "0e8bb021-838a-48f4-8e89-7886db9cce9f",
   "metadata": {},
   "source": [
    "***Debt to income vs Loan Status***"
   ]
  },
  {
   "cell_type": "code",
   "execution_count": null,
   "id": "6f6e676a-f2f6-477f-9bb9-c6dc6905b057",
   "metadata": {},
   "outputs": [],
   "source": [
    "# DTI vs Loan Status\n",
    "plt.figure(figsize=(10, 6))\n",
    "sns.boxplot(x='loan_status', y='dti', data=loans_df)\n",
    "plt.xticks(rotation=45)\n",
    "plt.xlabel('Loan Status')\n",
    "plt.ylabel('Debt to Income Ratio')\n",
    "plt.title('Debt to Income for Failed and Successful Loans')\n",
    "\n",
    "plt.show()"
   ]
  },
  {
   "cell_type": "markdown",
   "id": "9417e536-8b75-4ee7-8b00-0bf4fcd8a633",
   "metadata": {},
   "source": [
    "Looking at the boxplot, we can see that the median Dti is lower for the successful loans, with a lower IQR. Borrowers that have a lower Dti ratio are more likely to repay their loans."
   ]
  },
  {
   "cell_type": "code",
   "execution_count": null,
   "id": "de350ef9-dd98-497b-9ef1-c1103b5b1019",
   "metadata": {
    "scrolled": true
   },
   "outputs": [],
   "source": [
    "loans_df['issue_d'] = pd.to_datetime(loans_df['issue_d'], format='%b-%Y')\n",
    "loans_over_time = loans_df.groupby(loans_df['issue_d']).size()\n",
    "\n",
    "plt.figure(figsize=(10,5))\n",
    "loans_over_time.plot(title='Number of Loans Issued Over Time')\n",
    "plt.xlabel('Issue Date')\n",
    "plt.ylabel('Number of Loans')\n",
    "plt.show()"
   ]
  },
  {
   "cell_type": "code",
   "execution_count": null,
   "id": "2102ca74-afdc-40ba-9965-ec633f919895",
   "metadata": {},
   "outputs": [],
   "source": [
    "# Convert 'issue_d' to datetime and 'int_rate' to a float if it's not already\n",
    "loans_df['issue_d'] = pd.to_datetime(loans_df['issue_d'], format='%b-%Y')\n",
    "\n",
    "# Group by issue date and count the number of loans\n",
    "loans_count = loans_df.groupby(loans_df['issue_d']).size()\n",
    "\n",
    "# Group by issue date and calculate the average interest rate\n",
    "average_interest_rate = loans_df.groupby(loans_df['issue_d'])['int_rate'].mean()\n",
    "\n",
    "# Set up the plot\n",
    "fig, ax1 = plt.subplots(figsize=(10, 5))\n",
    "\n",
    "# Plot number of loans on the left y-axis\n",
    "ax1.set_xlabel('Issue Date')\n",
    "ax1.set_ylabel('Number of Loans', color='tab:blue')\n",
    "ax1.plot(loans_count.index, loans_count, color='tab:blue')\n",
    "ax1.tick_params(axis='y', labelcolor='tab:blue')\n",
    "\n",
    "# Create a twin Axes sharing the same x-axis\n",
    "ax2 = ax1.twinx()\n",
    "\n",
    "# Plot average interest rate on the right y-axis\n",
    "ax2.set_ylabel('Average Interest Rate', color='tab:red')\n",
    "ax2.plot(average_interest_rate.index, average_interest_rate, color='tab:red')\n",
    "ax2.tick_params(axis='y', labelcolor='tab:red')\n",
    "\n",
    "# Title and show\n",
    "plt.title('Number of Loans and Average Interest Rate Over Time')\n",
    "fig.tight_layout()\n",
    "plt.show()\n"
   ]
  },
  {
   "cell_type": "markdown",
   "id": "861d3acd-7384-468e-aaeb-58290ec341ca",
   "metadata": {},
   "source": [
    "***Loan Amount and Loan Status Correlation***"
   ]
  },
  {
   "cell_type": "code",
   "execution_count": null,
   "id": "151bef30-fb99-4143-996c-20168ce4cb79",
   "metadata": {},
   "outputs": [],
   "source": [
    "# A hexbin is more appropriate due to the number of datapoints being plotted. The count of each hex is plotted on the right\n",
    "plt.hexbin(paid_loans['funded_amnt'], paid_loans['int_rate'], gridsize=20, label='Fully Paid')\n",
    "plt.colorbar()\n",
    "plt.xlabel('Loan Amount')\n",
    "plt.xticks(rotation=45) \n",
    "plt.ylabel('Interest Rate')\n",
    "plt.title('Hexbin plot of Interest Rate vs Loan Amount')\n",
    "plt.show()"
   ]
  },
  {
   "cell_type": "markdown",
   "id": "34717b8d-c0d9-4a7f-90bb-e5c72a8b28e9",
   "metadata": {},
   "source": [
    "Notice how there isn't much variation between late and \"in grace period\" loans, but there is between fully payed and defaulted / charged off loans. Charged off / defaulted loans have the highest median interest rate, with fully paid loans having one of the lowest. When considered with the hexplot, the majority of loans fall between $5,000 and $10,000, with an interest rate of approximately 12%, with the defaulted / charged off loans have a much higher interest rate, being further from the central grouping of data on the hex plot. "
   ]
  },
  {
   "cell_type": "code",
   "execution_count": null,
   "id": "38b06d6a-6447-46f5-b3c9-d0fd673d1a1c",
   "metadata": {
    "scrolled": true
   },
   "outputs": [],
   "source": [
    "sns.boxplot(data=loans_df, x='loan_status', y='int_rate')\n",
    "plt.xticks(rotation=45) \n",
    "plt.title('Boxplot of Loan Amount by Loan Status')\n",
    "plt.xlabel('Loan Status')\n",
    "plt.ylabel('Interest Rate')\n",
    "plt.show()"
   ]
  },
  {
   "cell_type": "code",
   "execution_count": null,
   "id": "52e4af63-664b-4b69-9d3e-c2ae73e8ae33",
   "metadata": {},
   "outputs": [],
   "source": [
    "\n"
   ]
  },
  {
   "cell_type": "code",
   "execution_count": null,
   "id": "fc27e189-a353-4e76-95c3-4240a8b554a9",
   "metadata": {},
   "outputs": [],
   "source": [
    "loans_df['purpose'].value_counts().plot(kind='barh')\n",
    "plt.title('Purpose of Loans')\n",
    "plt.xlabel('Frequency')\n",
    "plt.ylabel('Purpose')\n",
    "plt.xticks(rotation=45)\n",
    "plt.show()"
   ]
  },
  {
   "cell_type": "code",
   "execution_count": null,
   "id": "19b86d28-b097-4064-8664-b6010a4c412e",
   "metadata": {},
   "outputs": [],
   "source": [
    "# You can still apply the filtering as mentioned before to remove outliers if necessary\n",
    "percentile_95 = loans_df['annual_inc'].quantile(0.95)\n",
    "filtered_loans_df = loans_df[loans_df['annual_inc'] <= percentile_95]\n",
    "\n",
    "# Create the hexbin plot\n",
    "plt.figure(figsize=(10, 6))\n",
    "plt.hexbin(filtered_loans_df['annual_inc'], filtered_loans_df['loan_amnt'], gridsize=50, cmap='Blues')\n",
    "plt.colorbar(label='Count in bin')\n",
    "plt.title('Annual Income vs. Loan Amount (Hexbin)')\n",
    "plt.xlabel('Annual Income')\n",
    "plt.ylabel('Loan Amount')\n",
    "plt.show()"
   ]
  },
  {
   "cell_type": "code",
   "execution_count": null,
   "id": "832f7648-a071-4ce2-9b2b-1cb1707b2c2e",
   "metadata": {},
   "outputs": [],
   "source": []
  }
 ],
 "metadata": {
  "kernelspec": {
   "display_name": "loans_capstone",
   "language": "python",
   "name": "loans_capstone"
  },
  "language_info": {
   "codemirror_mode": {
    "name": "ipython",
    "version": 3
   },
   "file_extension": ".py",
   "mimetype": "text/x-python",
   "name": "python",
   "nbconvert_exporter": "python",
   "pygments_lexer": "ipython3",
   "version": "3.11.3"
  }
 },
 "nbformat": 4,
 "nbformat_minor": 5
}
