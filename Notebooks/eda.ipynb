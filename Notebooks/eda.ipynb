{
 "cells": [
  {
   "cell_type": "markdown",
   "id": "1f0cd6ac-c5e7-4a2c-82c9-7563a71b5f7b",
   "metadata": {},
   "source": [
    "# EDA"
   ]
  },
  {
   "cell_type": "markdown",
   "id": "3acdf611-d79a-4e02-ac10-470b8f24f103",
   "metadata": {},
   "source": [
    "## Date: Nov 7, 2023"
   ]
  },
  {
   "cell_type": "markdown",
   "id": "b01f5095-2f00-498c-8780-ade055ecdf3f",
   "metadata": {},
   "source": [
    "---------------"
   ]
  },
  {
   "cell_type": "markdown",
   "id": "4166a017-a245-4d81-8671-7797771269a6",
   "metadata": {},
   "source": [
    "## Table of Contents"
   ]
  },
  {
   "cell_type": "code",
   "execution_count": null,
   "id": "ebb4ee0f-1f73-46dd-937e-57ebf6732e98",
   "metadata": {},
   "outputs": [],
   "source": []
  },
  {
   "cell_type": "markdown",
   "id": "0107eb5d-d88b-4900-a610-f4753dbe5a18",
   "metadata": {},
   "source": [
    "## Introduction"
   ]
  },
  {
   "cell_type": "markdown",
   "id": "ecb5876b-fcec-4c38-9fe7-7374810c2d98",
   "metadata": {},
   "source": [
    "In this notebook, we will explore the relationship between the borrowers financial characteristics and their loan outcome. We will look for any patterns between features, relying on visuals as an aid. This will also allow us to better understand our data and possible feature engineering steps to take when modeling.   "
   ]
  },
  {
   "cell_type": "markdown",
   "id": "b7034801-cca9-4adc-9370-b99b627a537a",
   "metadata": {},
   "source": [
    "## Import Librarys"
   ]
  },
  {
   "cell_type": "code",
   "execution_count": null,
   "id": "d45197dc-17e9-4562-9833-1734292f7ad0",
   "metadata": {},
   "outputs": [],
   "source": [
    "import pandas as pd\n",
    "import numpy as np\n",
    "import seaborn as sns\n",
    "import matplotlib.pyplot as plt\n",
    "\n",
    "from pathlib import Path"
   ]
  },
  {
   "cell_type": "markdown",
   "id": "c110dcb4-e99d-46c6-8e8b-9ad0bc274ebf",
   "metadata": {},
   "source": [
    "## Data Dictionary"
   ]
  },
  {
   "cell_type": "code",
   "execution_count": null,
   "id": "386bb105-161b-4208-83a2-3d4d9e94516f",
   "metadata": {},
   "outputs": [],
   "source": [
    "#Ensure the output is not truncated\n",
    "pd.set_option('display.max_rows', None)\n",
    "pd.set_option('display.max_columns', None)\n",
    "pd.set_option('display.max_colwidth', None)"
   ]
  },
  {
   "cell_type": "code",
   "execution_count": null,
   "id": "26b9b44b-7efd-4ffb-b14d-1d2f8fe6cabe",
   "metadata": {},
   "outputs": [],
   "source": [
    "#pathlib is used to ensure compatibility across operating systems\n",
    "try:\n",
    "    data_destination = Path('../Data/Lending_club/Lending Club Data Dictionary Approved.csv')\n",
    "    dict_df = pd.read_csv(data_destination, encoding='ISO-8859-1')\n",
    "    display(dict_df.iloc[:,0:2])\n",
    "except FileNotFoundError as e:\n",
    "    print(e.args[1])\n",
    "    print('Check file location')"
   ]
  },
  {
   "cell_type": "markdown",
   "id": "1f2e2057-bce3-48bc-9af1-0417911db37a",
   "metadata": {},
   "source": [
    "## Load the Data"
   ]
  },
  {
   "cell_type": "code",
   "execution_count": null,
   "id": "558e38e8-e3a1-423a-afd5-c9b7fa32be79",
   "metadata": {},
   "outputs": [],
   "source": [
    "# Define the relative path to the file\n",
    "parquet_file_path = Path('../Data/Lending_club/Cleaned')\n",
    "\n",
    "try:\n",
    "    # Read the parquet file\n",
    "    loans_df = pd.read_parquet(parquet_file_path)\n",
    "except FileNotFoundError as e:\n",
    "    print(e.args[1])\n",
    "    print('Check file location')"
   ]
  },
  {
   "cell_type": "code",
   "execution_count": null,
   "id": "e73a6cc0-6110-4f39-8fac-ffa385293f43",
   "metadata": {},
   "outputs": [],
   "source": [
    "loans_df.head(5)"
   ]
  },
  {
   "cell_type": "markdown",
   "id": "87a85dc0-8e02-48b8-bb9e-4685e800cc9c",
   "metadata": {},
   "source": [
    "## Exploratory Data Analysis"
   ]
  },
  {
   "cell_type": "code",
   "execution_count": null,
   "id": "b563183a-4fca-4b14-917f-72ca090fbfcc",
   "metadata": {},
   "outputs": [],
   "source": [
    "# Separate the data between fully paid and charged off / defaulted loans\n",
    "paid_loans = loans_df[loans_df['loan_status'] == \"Fully Paid\"]\n",
    "defaulted_loans = loans_df[loans_df['loan_status'] == \"Charged Off/Default\"]"
   ]
  },
  {
   "cell_type": "markdown",
   "id": "b35eeffb-1d7f-49f2-a986-4457470afeae",
   "metadata": {},
   "source": [
    "***Loan Status Imbalance***"
   ]
  },
  {
   "cell_type": "markdown",
   "id": "9958dc1f-4ca2-429d-9c04-8b6c984db0d7",
   "metadata": {},
   "source": [
    "We will first explore the inbalance in our target variable ie failed and successful loans. This will become crucial when we start training the models. "
   ]
  },
  {
   "cell_type": "code",
   "execution_count": null,
   "id": "4758c219-a798-43ae-ab81-6f9d896646e0",
   "metadata": {},
   "outputs": [],
   "source": [
    "# Get the proportion of failed vs successful loans \n",
    "loan_status_counts = loans_df['loan_status'].value_counts(normalize=True)\n",
    "\n",
    "# Place a background grid\n",
    "sns.set_style(\"whitegrid\")\n",
    "\n",
    "# Plot the Proportions\n",
    "loan_status_counts.plot(kind='bar', color='skyblue')\n",
    "plt.title('Proportion of loans by Status')\n",
    "plt.xticks(rotation=45) \n",
    "plt.xlabel('Loan Status')\n",
    "plt.ylabel('Proportion')\n",
    "\n",
    "# Show the plot\n",
    "plt.tight_layout()\n",
    "plt.show()"
   ]
  },
  {
   "cell_type": "markdown",
   "id": "a7e3d308-9118-4c73-b118-9c983d51870a",
   "metadata": {},
   "source": [
    "We can see that we have large difference between our categories. This will need to be taken into consideration when we start creating the models."
   ]
  },
  {
   "cell_type": "markdown",
   "id": "5e6f01d0-f6ae-4b55-9289-e20aed9f6d5e",
   "metadata": {},
   "source": [
    "***Loan Amount***"
   ]
  },
  {
   "cell_type": "code",
   "execution_count": null,
   "id": "b01ee3bd-e299-4819-a291-aaa2c0719c00",
   "metadata": {},
   "outputs": [],
   "source": [
    "plt.figure(figsize=(10, 5))\n",
    "sns.histplot(loans_df['loan_amnt'], bins=20, kde=True)\n",
    "plt.title('Loan Amount Distribution')\n",
    "plt.xlabel('Loan Amount')\n",
    "plt.ylabel('Frequency')\n",
    "plt.show()"
   ]
  },
  {
   "cell_type": "markdown",
   "id": "3a14de34-4006-49ff-ba90-39f519dc46c8",
   "metadata": {},
   "source": [
    "We can see that majority of loans center around  `$10,000`, with a right tail to `$40,000`, with the maximum coming in at `$40,000`.   \n",
    "This is due to LC limiting the amount to just `$40,000`. This gives us a good idea of the range for Loan Amount, as well as how much investors typically risk on a loan. \n",
    "More Information can be found here:  \n",
    "https://www.lendingclub.com/help/personal-loan-faq/how-much-can-i-borrow"
   ]
  },
  {
   "cell_type": "markdown",
   "id": "0e8bb021-838a-48f4-8e89-7886db9cce9f",
   "metadata": {},
   "source": [
    "***Debt to income vs Loan Status***"
   ]
  },
  {
   "cell_type": "code",
   "execution_count": null,
   "id": "6f6e676a-f2f6-477f-9bb9-c6dc6905b057",
   "metadata": {},
   "outputs": [],
   "source": [
    "# DTI vs Loan Status\n",
    "plt.figure(figsize=(10, 6))\n",
    "sns.boxplot(x='loan_status', y='dti', data=loans_df)\n",
    "plt.xticks(rotation=45)\n",
    "plt.xlabel('Loan Status')\n",
    "plt.ylabel('Debt to Income Ratio')\n",
    "plt.title('Debt to Income for Failed and Successful Loans')\n",
    "\n",
    "plt.show()"
   ]
  },
  {
   "cell_type": "markdown",
   "id": "9417e536-8b75-4ee7-8b00-0bf4fcd8a633",
   "metadata": {},
   "source": [
    "Looking at the boxplot, we can see that the median Dti is lower for the successful loans, with a lower IQR. Borrowers that have a lower Dti ratio are more likely to repay their loans."
   ]
  },
  {
   "cell_type": "markdown",
   "id": "c43c5314-c764-4ac0-bac3-19483366e793",
   "metadata": {},
   "source": [
    "***Number of loans and interest rate overtime***"
   ]
  },
  {
   "cell_type": "code",
   "execution_count": null,
   "id": "2102ca74-afdc-40ba-9965-ec633f919895",
   "metadata": {},
   "outputs": [],
   "source": [
    "#Link used: https://stackoverflow.com/questions/22276066/how-to-plot-multiple-functions-on-the-same-figure\n",
    "\n",
    "# Convert 'issue_d' to datetime\n",
    "loans_df['issue_d'] = pd.to_datetime(loans_df['issue_d'], format='%b-%Y')\n",
    "\n",
    "#group by issue date and count the number of loans\n",
    "loans_count = loans_df.groupby(loans_df['issue_d']).size()\n",
    "\n",
    "# calculate the average interest rate over the same period\n",
    "average_interest_rate = loans_df.groupby(loans_df['issue_d'])['int_rate'].mean()\n",
    "\n",
    "fig, ax1 = plt.subplots(figsize=(10, 5))\n",
    "\n",
    "# number of loans on the left y-axis\n",
    "ax1.set_xlabel('Issue Date')\n",
    "ax1.set_ylabel('Number of Loans', color='blue')\n",
    "ax1.plot(loans_count.index, loans_count, color='blue')\n",
    "ax1.tick_params(axis='y', labelcolor='blue')\n",
    "\n",
    "ax2 = ax1.twinx()\n",
    "\n",
    "#average interest rate on the right y-axis\n",
    "ax2.set_ylabel('Average Interest Rate', color='red')\n",
    "ax2.plot(average_interest_rate.index, average_interest_rate, color='red')\n",
    "ax2.tick_params(axis='y', labelcolor='red')\n",
    "\n",
    "\n",
    "# Title and show\n",
    "plt.title('Number of Loans and Average Interest Rate Over Time')\n",
    "fig.tight_layout()\n",
    "plt.show()"
   ]
  },
  {
   "cell_type": "markdown",
   "id": "d79b76f6-ec62-4273-940d-9f7003373896",
   "metadata": {},
   "source": [
    "We can see that there is an inverse correlation between interest rate and number of loans. This shows that P2P loans are as sensitive to external economic factors as other loans, and that these factors must be considered along side any conclusions found in this project."
   ]
  },
  {
   "cell_type": "markdown",
   "id": "861d3acd-7384-468e-aaeb-58290ec341ca",
   "metadata": {},
   "source": [
    "***Loan Amount and Loan Status Correlation***"
   ]
  },
  {
   "cell_type": "code",
   "execution_count": null,
   "id": "151bef30-fb99-4143-996c-20168ce4cb79",
   "metadata": {},
   "outputs": [],
   "source": [
    "# A hexbin is more appropriate due to the number of datapoints being plotted. The count of each hex is plotted on the right\n",
    "plt.hexbin(paid_loans['funded_amnt'], paid_loans['int_rate'], gridsize=20, label='Fully Paid')\n",
    "plt.colorbar()\n",
    "plt.xlabel('Loan Amount')\n",
    "plt.xticks(rotation=45) \n",
    "plt.ylabel('Interest Rate')\n",
    "plt.title('Hexbin plot of Interest Rate vs Loan Amount')\n",
    "plt.show()"
   ]
  },
  {
   "cell_type": "markdown",
   "id": "9cda8400-4d19-4f74-8465-1d40b1c77d66",
   "metadata": {},
   "source": [
    "***Interest rate by loan Status***"
   ]
  },
  {
   "cell_type": "code",
   "execution_count": null,
   "id": "38b06d6a-6447-46f5-b3c9-d0fd673d1a1c",
   "metadata": {},
   "outputs": [],
   "source": [
    "sns.boxplot(data=loans_df, x='loan_status', y='int_rate')\n",
    "plt.xticks(rotation=45) \n",
    "plt.title('Boxplot of Loan Amount by Loan Status')\n",
    "plt.xlabel('Loan Status')\n",
    "plt.ylabel('Interest Rate')\n",
    "plt.show()"
   ]
  },
  {
   "cell_type": "markdown",
   "id": "441baaf5-b54f-4fe6-91ef-05f601711d9a",
   "metadata": {},
   "source": [
    "There is a difference between fully payed and defaulted / charged off loans. Charged off / defaulted loans have the a higher median interest rate, with fully paid loans having one of the lowest. When considered with the hexplot, the majority of loans fall between `$5,000` and `$10,000`, with an interest rate of approximately 12%, with the defaulted / charged off loans have a much higher interest rate, being further from the central grouping of data on the hex plot. "
   ]
  },
  {
   "cell_type": "code",
   "execution_count": null,
   "id": "a5bb36c3-acb5-47ee-a957-ee5dff8d0b1a",
   "metadata": {},
   "outputs": [],
   "source": [
    "# Plot the data\n",
    "loans_df['purpose'].value_counts().plot(kind='barh')\n",
    "\n",
    "# Set the title and labels\n",
    "plt.title('Purpose of Loans')\n",
    "plt.xlabel('Frequency')\n",
    "plt.ylabel('Purpose')\n",
    "\n",
    "# Rotate the x-axis labels for better readability\n",
    "plt.xticks(rotation=45)\n",
    "\n",
    "# Retrieve the current figure and axes\n",
    "fig = plt.gcf()\n",
    "ax = plt.gca()\n",
    "\n",
    "# Set the background color for the figure and the axes\n",
    "fig.set_facecolor('lightblue')\n",
    "ax.set_facecolor('lightblue') \n",
    "\n",
    "# Show the plot\n",
    "plt.show()"
   ]
  },
  {
   "cell_type": "markdown",
   "id": "517350b8-8389-461f-a15c-cfaf898eb0f3",
   "metadata": {},
   "source": [
    "We can see that the purpose for the majority of loans is debt and credit card consolidation. This makes sense since the interest rates for credit cards is usually over `20%` where as the interest rate for LC loans average `12%`."
   ]
  },
  {
   "cell_type": "code",
   "execution_count": null,
   "id": "19b86d28-b097-4064-8664-b6010a4c412e",
   "metadata": {},
   "outputs": [],
   "source": [
    "# You can still apply the filtering as mentioned before to remove outliers if necessary\n",
    "percentile_95 = loans_df['annual_inc'].quantile(0.95)\n",
    "filtered_loans_df = loans_df[loans_df['annual_inc'] <= percentile_95]\n",
    "\n",
    "# Create the hexbin plot\n",
    "plt.figure(figsize=(10, 6))\n",
    "\n",
    "# Retrieve the current figure and axes\n",
    "fig = plt.gcf()\n",
    "ax = plt.gca()\n",
    "\n",
    "# Set the background color for the figure and the axes\n",
    "fig.set_facecolor('lightgrey')\n",
    "ax.set_facecolor('lightgrey')\n",
    "\n",
    "plt.hexbin(filtered_loans_df['annual_inc'], filtered_loans_df['loan_amnt'], gridsize=45, cmap='plasma')\n",
    "plt.colorbar(label='Count in bin')\n",
    "plt.title('Hexbin of Annual Income vs. Loan Amount')\n",
    "plt.xlabel('Annual Income')\n",
    "plt.ylabel('Loan Amount')\n",
    "plt.show()"
   ]
  },
  {
   "cell_type": "markdown",
   "id": "9ed4b63c-2013-4f84-b12c-58bdfe4804fd",
   "metadata": {},
   "source": [
    "We can see an odd relationship / line in this graph. We will research this further. "
   ]
  },
  {
   "cell_type": "code",
   "execution_count": null,
   "id": "637be991-2619-445a-83fc-f418f2f2dc65",
   "metadata": {},
   "outputs": [],
   "source": []
  }
 ],
 "metadata": {
  "kernelspec": {
   "display_name": "loans_capstone",
   "language": "python",
   "name": "loans_capstone"
  },
  "language_info": {
   "codemirror_mode": {
    "name": "ipython",
    "version": 3
   },
   "file_extension": ".py",
   "mimetype": "text/x-python",
   "name": "python",
   "nbconvert_exporter": "python",
   "pygments_lexer": "ipython3",
   "version": "3.11.3"
  }
 },
 "nbformat": 4,
 "nbformat_minor": 5
}
